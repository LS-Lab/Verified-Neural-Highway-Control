{
 "cells": [
  {
   "cell_type": "markdown",
   "metadata": {},
   "source": [
    "**This Jupyter Notebook requires a Julia 1.10 Kernel**"
   ]
  },
  {
   "cell_type": "code",
   "execution_count": 1,
   "metadata": {},
   "outputs": [],
   "source": [
    "using Pkg"
   ]
  },
  {
   "cell_type": "code",
   "execution_count": 3,
   "metadata": {},
   "outputs": [
    {
     "name": "stderr",
     "output_type": "stream",
     "text": [
      "\u001b[32m\u001b[1m  Activating\u001b[22m\u001b[39m project at `~/Dokumente/Projects/CPS/ABZ/abz2025-case-study/versaille/analysis`\n"
     ]
    }
   ],
   "source": [
    "#Pkg.activate(\"../../../../NN-Safety-via-dL/repos/NCubeV-Reinstall/\")\n",
    "Pkg.activate(\".\")"
   ]
  },
  {
   "cell_type": "code",
   "execution_count": 4,
   "metadata": {},
   "outputs": [
    {
     "name": "stdout",
     "output_type": "stream",
     "text": [
      "Assuming python environment is at /home/samuel/anaconda3/envs/abz-env\n"
     ]
    }
   ],
   "source": [
    "python_env_loc = readlines(\"pythonenv\")[1]\n",
    "println(\"Assuming python environment is at $python_env_loc\")"
   ]
  },
  {
   "cell_type": "code",
   "execution_count": 5,
   "metadata": {},
   "outputs": [
    {
     "data": {
      "text/plain": [
       "\"/home/samuel/anaconda3/envs/abz-env\""
      ]
     },
     "metadata": {},
     "output_type": "display_data"
    }
   ],
   "source": [
    "ENV[\"PYTHON\"] = python_env_loc"
   ]
  },
  {
   "cell_type": "code",
   "execution_count": 6,
   "metadata": {},
   "outputs": [],
   "source": [
    "try\n",
    "    using SNNT\n",
    "catch\n",
    "end"
   ]
  },
  {
   "cell_type": "code",
   "execution_count": 7,
   "metadata": {},
   "outputs": [],
   "source": [
    "using SNNT\n",
    "using JLD\n",
    "using Glob\n",
    "using Plots\n",
    "using PyCall"
   ]
  },
  {
   "cell_type": "code",
   "execution_count": 8,
   "metadata": {},
   "outputs": [
    {
     "data": {
      "text/plain": [
       "load_stars (generic function with 1 method)"
      ]
     },
     "metadata": {},
     "output_type": "display_data"
    }
   ],
   "source": [
    "function load_stars(folder, prefix, limit)\n",
    "    println(\"Loading results from $folder/$prefix-*.jld\")\n",
    "    stars = []\n",
    "    for file in glob(\"$folder/$prefix-*.jld\")\n",
    "        if occursin(\"summary\",file)\n",
    "            continue\n",
    "        end\n",
    "        println(\"Loading $file\")\n",
    "        res = load(file)\n",
    "        for res in res[\"result\"]\n",
    "            append!(stars, res.stars)\n",
    "        end\n",
    "        if length(stars) > limit\n",
    "            break\n",
    "        end\n",
    "    end\n",
    "    return stars\n",
    "end"
   ]
  },
  {
   "cell_type": "code",
   "execution_count": 9,
   "metadata": {},
   "outputs": [
    {
     "data": {
      "text/plain": [
       "summarize_and_load (generic function with 1 method)"
      ]
     },
     "metadata": {},
     "output_type": "display_data"
    }
   ],
   "source": [
    "function summarize_and_load(folder, prefix)\n",
    "    println(\"Loading results from $folder/$prefix-*.jld\")\n",
    "    results = []\n",
    "    metadata = nothing\n",
    "    for file in glob(\"$prefix-*.jld\",folder)\n",
    "        println(file)\n",
    "        if occursin(\"summary\",file)\n",
    "            continue\n",
    "        end\n",
    "        cur_results = load(file)\n",
    "        if haskey(cur_results,\"backup_meta\")\n",
    "            metadata = cur_results[\"backup_meta\"]\n",
    "        end\n",
    "        append!(results,cur_results[\"result\"])\n",
    "    end\n",
    "    result_summary = SNNT.VerifierInterface.reduce_results(results)\n",
    "    save(\"$folder/$prefix-summary.jld\",\"result\",result_summary,\"args\",metadata)\n",
    "    return (result_summary, metadata)\n",
    "end"
   ]
  },
  {
   "cell_type": "code",
   "execution_count": 10,
   "metadata": {},
   "outputs": [
    {
     "name": "stdout",
     "output_type": "stream",
     "text": [
      "Loading results from ../results/improved-ld-all-cars-*.jld\n",
      "Loading ../results/improved-ld-all-cars-112.jld\n",
      "Loading ../results/improved-ld-all-cars-118.jld\n",
      "Loading ../results/improved-ld-all-cars-121.jld\n",
      "Loading ../results/improved-ld-all-cars-161.jld\n",
      "Loading ../results/improved-ld-all-cars-209.jld\n",
      "Loading ../results/improved-ld-all-cars-224.jld\n",
      "Loading ../results/improved-ld-all-cars-237.jld\n",
      "Loading ../results/improved-ld-all-cars-245.jld\n",
      "Loading ../results/improved-ld-all-cars-260.jld\n",
      "Loading ../results/improved-ld-all-cars-266.jld\n",
      "Loading ../results/improved-ld-all-cars-312.jld\n",
      "Loading ../results/improved-ld-all-cars-315.jld\n",
      "Loading ../results/improved-ld-all-cars-325.jld\n",
      "Loading ../results/improved-ld-all-cars-330.jld\n",
      "Loading ../results/improved-ld-all-cars-36.jld\n",
      "Loading ../results/improved-ld-all-cars-377.jld\n",
      "Loading ../results/improved-ld-all-cars-409.jld\n",
      "Loading ../results/improved-ld-all-cars-44.jld\n",
      "Loading ../results/improved-ld-all-cars-463.jld\n",
      "Loading ../results/improved-ld-all-cars-549.jld\n",
      "Loading ../results/improved-ld-all-cars-578.jld\n",
      "Loading ../results/improved-ld-all-cars-59.jld\n",
      "Loading ../results/improved-ld-all-cars-602.jld\n",
      "Loading ../results/improved-ld-all-cars-623.jld\n",
      "Loading ../results/improved-ld-all-cars-65.jld\n",
      "Loading ../results/improved-ld-all-cars-653.jld\n",
      "Loading ../results/improved-ld-all-cars-68.jld\n",
      "Loading ../results/improved-ld-all-cars-783.jld\n",
      "Loading ../results/improved-ld-all-cars-87.jld\n",
      "Loading ../results/improved-ld-all-cars-99.jld\n",
      "Loading ../results/improved-ld-all-cars-final.jld\n"
     ]
    }
   ],
   "source": [
    "results = load_stars(\"../results\", \"improved-ld-all-cars\",Inf)\n",
    "nothing"
   ]
  },
  {
   "cell_type": "code",
   "execution_count": 11,
   "metadata": {},
   "outputs": [
    {
     "name": "stdout",
     "output_type": "stream",
     "text": [
      "Total Stars Retrieved: 11059\n",
      "Total Stars After Filtering: 10937\n"
     ]
    }
   ],
   "source": [
    "println(\"Total Stars Retrieved: \",length(results))\n",
    "# Filtering out counterexampels where front car position is too close due to float rounding\n",
    "# This is a problem with the counterexample extraction from Z3 *not* with the counterexamples themselves\n",
    "\n",
    "function dl_invariant(cex)\n",
    "    xf = 5*40*cex[2]\n",
    "    vf = 2*40*cex[4]\n",
    "    xl = 5*40*(cex[2]+cex[7])\n",
    "    vl = 2*40*(cex[4]+cex[9])\n",
    "    return ((vl >= 0) & (vf >= 0) & (vl <= 40.0) & (vf <= 40.0) & (xf + 5.0 <= xl) & (xf + vf^2/(2*5.0) + 5.0 < xl + vl^2/(2*5.0)))\n",
    "end\n",
    "\n",
    "results_float = filter(x -> !(dl_invariant(x.counter_example[1])), results)\n",
    "results = filter(x -> dl_invariant(x.counter_example[1]), results)\n",
    "println(\"Total Stars After Filtering: \",length(results))"
   ]
  },
  {
   "cell_type": "code",
   "execution_count": 12,
   "metadata": {},
   "outputs": [],
   "source": [
    "pushfirst!(pyimport(\"sys\").\"path\", \"\");"
   ]
  },
  {
   "cell_type": "code",
   "execution_count": 13,
   "metadata": {},
   "outputs": [
    {
     "data": {
      "text/plain": [
       "PyObject <module 'gymnasium' from '/home/samuel/anaconda3/envs/abz/lib/python3.10/site-packages/gymnasium/__init__.py'>"
      ]
     },
     "metadata": {},
     "output_type": "display_data"
    }
   ],
   "source": [
    "pyimport(\"gymnasium\")"
   ]
  },
  {
   "cell_type": "code",
   "execution_count": 14,
   "metadata": {},
   "outputs": [
    {
     "name": "stderr",
     "output_type": "stream",
     "text": [
      "/home/samuel/anaconda3/envs/abz/lib/python3.10/site-packages/gymnasium/utils/passive_env_checker.py:42: UserWarning: \u001b[33mWARN: A Box observation space has an unconventional shape (neither an image, nor a 1D vector). We recommend flattening the observation to have only a 1D vector or use a custom policy to properly process the data. Actual observation shape: (5, 5)\u001b[0m\n",
      "  logger.warn(\n",
      "/home/samuel/anaconda3/envs/abz/lib/python3.10/site-packages/gymnasium/utils/passive_env_checker.py:42: UserWarning: \u001b[33mWARN: A Box observation space has an unconventional shape (neither an image, nor a 1D vector). We recommend flattening the observation to have only a 1D vector or use a custom policy to properly process the data. Actual observation shape: (5, 5)\u001b[0m\n",
      "  logger.warn(\n",
      "/home/samuel/anaconda3/envs/abz/lib/python3.10/site-packages/stable_baselines3/common/save_util.py:437: FutureWarning: You are using `torch.load` with `weights_only=False` (the current default value), which uses the default pickle module implicitly. It is possible to construct malicious pickle data which will execute arbitrary code during unpickling (See https://github.com/pytorch/pytorch/blob/main/SECURITY.md#untrusted-models for more details). In a future release, the default value for `weights_only` will be flipped to `True`. This limits the functions that could be executed during unpickling. Arbitrary objects will no longer be allowed to be loaded via this mode unless they are explicitly allowlisted by the user via `torch.serialization.add_safe_globals`. We recommend you start setting `weights_only=True` for any use case where you don't have full control of the loaded file. Please open an issue on GitHub for any issues related to this experimental feature.\n",
      "  th_object = th.load(file_content, map_location=device)\n"
     ]
    },
    {
     "data": {
      "text/plain": [
       "PyObject <function quant_invariant at 0x74b275b272e0>"
      ]
     },
     "metadata": {},
     "output_type": "display_data"
    }
   ],
   "source": [
    "py\"\"\"\n",
    "from highway_reproduction import *\n",
    "from custom_highway import *\n",
    "\n",
    "# Acceleration control bug: Must be >0 to avoid car accidentally going backwards...\n",
    "BrakingVehicle.MIN_SPEED = 1.0\n",
    "\n",
    "from highway_env.vehicle.kinematics import Vehicle\n",
    "from highway_env.vehicle.behavior import IDMVehicle\n",
    "Vehicle.MIN_SPEED = 0.0\n",
    "IDMVehicle.ACC_MAX = 5.0\n",
    "IDMVehicle.MIN_SPEED = 0.0\n",
    "\n",
    "envs_all = reproduce_crash_get_envs(None,worst_case_braking=-5.0,weak_brake=False)\n",
    "envs_all = [env for _,env in envs_all]\n",
    "model = load_model(\"../nets/nn_small_improved-ld.zip\")\n",
    "envs_worst_case = [envs_all[1]]\n",
    "\n",
    "def invariant(xf, vf, xl, vl):\n",
    "    return vl >= 0 and vf >= 0 and vl <= 40.0 and vf <= 40.0 and xf + 5.0 <= xl and xf + vf**2/(2*5.0) + 5.0 < xl + vl**2/(2*5.0)\n",
    "\n",
    "def quant_invariant(xf, vf, xl, vl):\n",
    "    return max(\n",
    "        -vl,\n",
    "        -vf,\n",
    "        vl - 40.0,\n",
    "        vf - 40.0,\n",
    "        xf + 5.0-xl,\n",
    "        xf + vf**2/(2*5.0) + 5.0 - xl - vl**2/(2*5.0)\n",
    "    )\n",
    "\n",
    "def get_results(observation):\n",
    "    global envs_all\n",
    "    global model\n",
    "    set_observation_seed(envs_all, observation)\n",
    "    results = reproduce_crash_evaluate(envs_all, model, test_runs=1, default_action=0)\n",
    "    return results\n",
    "\n",
    "def get_results_wc(observation):\n",
    "    global envs_worst_case\n",
    "    global model\n",
    "    set_observation_seed(envs_worst_case, observation)\n",
    "    results = reproduce_crash_evaluate(envs_worst_case, model, test_runs=1, default_action=0)\n",
    "    return results\n",
    "\"\"\"\n",
    "get_results = py\"get_results\"\n",
    "get_results_wc = py\"get_results_wc\"\n",
    "invariant = py\"invariant\"\n",
    "quant_invariant = py\"quant_invariant\""
   ]
  },
  {
   "cell_type": "code",
   "execution_count": 15,
   "metadata": {},
   "outputs": [
    {
     "name": "stdout",
     "output_type": "stream",
     "text": [
      " 69.775201 seconds (334.78 k allocations: 22.311 MiB, 0.37% compilation time)\n"
     ]
    }
   ],
   "source": [
    "crash_results = []\n",
    "@time for star in results[1:100]\n",
    "    obs = star.counter_example[1]\n",
    "    #in_inv = invariant(5*40*obs[2], 2*40*obs[4], 5*40*(obs[2]+obs[7]), 2*40*(obs[4]+obs[9]))\n",
    "    #print(in_inv)\n",
    "    push!(crash_results,get_results(star.counter_example[1]))\n",
    "end"
   ]
  },
  {
   "cell_type": "code",
   "execution_count": 19,
   "metadata": {},
   "outputs": [
    {
     "name": "stdout",
     "output_type": "stream",
     "text": [
      "6918.145578 seconds (1.69 M allocations: 64.069 MiB, 0.00% gc time)\n"
     ]
    }
   ],
   "source": [
    "crash_results = []\n",
    "@time for star in results\n",
    "    obs = star.counter_example[1]\n",
    "    #in_inv = invariant(5*40*obs[2], 2*40*obs[4], 5*40*(obs[2]+obs[7]), 2*40*(obs[4]+obs[9]))\n",
    "    #print(in_inv)\n",
    "    push!(crash_results,get_results(star.counter_example[1]))\n",
    "end"
   ]
  },
  {
   "cell_type": "code",
   "execution_count": 20,
   "metadata": {},
   "outputs": [],
   "source": [
    "save(\"improved-full-crash-results.jld\",\"crash_results\",crash_results)"
   ]
  },
  {
   "cell_type": "code",
   "execution_count": 21,
   "metadata": {},
   "outputs": [
    {
     "data": {
      "text/plain": [
       "summarize_crashes (generic function with 1 method)"
      ]
     },
     "metadata": {},
     "output_type": "display_data"
    }
   ],
   "source": [
    "function summarize_crashes(crash_results)\n",
    "    default_env_nn = 0\n",
    "    default_env_nn_rew = []\n",
    "    front_brake_env_nn = 0\n",
    "    front_brake_env_nn_rew = []\n",
    "    default_env_brake = 0\n",
    "    default_env_brake_rew = []\n",
    "    front_brake_env_brake = 0\n",
    "    front_brake_env_brake_rew = []\n",
    "    for res in crash_results\n",
    "        if res[1][1][1] == 1\n",
    "            default_env_nn += 1\n",
    "        end\n",
    "        if res[1][1][2] == 1\n",
    "            front_brake_env_nn += 1\n",
    "        end\n",
    "        if res[2][1][1] == 1\n",
    "            default_env_brake += 1\n",
    "        end\n",
    "        if res[2][1][2] == 1\n",
    "            front_brake_env_brake += 1\n",
    "        end\n",
    "        push!(default_env_nn_rew,res[1][2][1])\n",
    "        push!(front_brake_env_nn_rew,res[1][2][2])\n",
    "        push!(default_env_brake_rew,res[2][2][1])\n",
    "        push!(front_brake_env_brake_rew,res[2][2][2])\n",
    "    end\n",
    "    println(\"Crashes:\")\n",
    "    println(\"Default Env NN:\\t\\t\\t\",default_env_nn)\n",
    "    println(\"Front Brake Env NN:\\t\\t\",front_brake_env_nn)\n",
    "    println(\"Default Env Brake:\\t\\t\",default_env_brake)\n",
    "    println(\"Front Brake Env Brake:\\t\\t\",front_brake_env_brake)\n",
    "    return (default_env_nn_rew, front_brake_env_nn_rew, default_env_brake_rew, front_brake_env_brake_rew)\n",
    "end"
   ]
  },
  {
   "cell_type": "code",
   "execution_count": 22,
   "metadata": {},
   "outputs": [
    {
     "data": {
      "text/plain": [
       "10937-element Vector{Any}:\n",
       " (([0, 0], [22.875, 16.872500000000002]), ([0, 0], [16.3125, 16.3125]))\n",
       " (([0, 0], [21.9375, 16.875]), ([0, 0], [16.3125, 16.3125]))\n",
       " (([0, 0], [22.0625, 16.9325]), ([0, 0], [16.3125, 16.3125]))\n",
       " (([0, 0], [22.8125, 17.125]), ([0, 0], [16.3125, 16.3125]))\n",
       " (([0, 0], [21.75, 17.1125]), ([0, 0], [16.3125, 16.3125]))\n",
       " (([0, 0], [21.1875, 17.1125]), ([0, 0], [16.3125, 16.3125]))\n",
       " (([0, 0], [20.6875, 17.110000000000003]), ([0, 0], [16.3125, 16.3125]))\n",
       " (([0, 0], [21.8125, 17.1125]), ([0, 0], [16.3125, 16.3125]))\n",
       " (([0, 0], [21.1875, 17.1125]), ([0, 0], [16.3125, 16.3125]))\n",
       " (([0, 0], [21.625, 17.0625]), ([0, 0], [16.3125, 16.3125]))\n",
       " ⋮\n",
       " (([0, 1], [20.007499999999997, 1.46]), ([0, 0], [15.125, 15.125]))\n",
       " (([0, 1], [19.71875, 1.46]), ([0, 0], [15.125, 15.125]))\n",
       " (([0, 1], [19.862499999999997, 1.46]), ([0, 0], [15.125, 15.125]))\n",
       " (([0, 1], [17.816875000000003, 0.71875]), ([0, 0], [15.0, 15.0]))\n",
       " (([0, 1], [17.125, 0.681]), ([0, 0], [15.0, 15.0]))\n",
       " (([0, 1], [17.3125, 0.7050000000000001]), ([0, 0], [15.0, 15.0]))\n",
       " (([0, 1], [18.0625, 0.75625]), ([0, 0], [15.03125, 15.03125]))\n",
       " (([0, 1], [18.40625, 1.37138]), ([0, 0], [15.03125, 15.03125]))\n",
       " (([0, 1], [18.09375, 1.37138]), ([0, 0], [15.03125, 15.03125]))"
      ]
     },
     "metadata": {},
     "output_type": "display_data"
    }
   ],
   "source": [
    "crash_results = load(\"improved-full-crash-results.jld\")[\"crash_results\"]"
   ]
  },
  {
   "cell_type": "code",
   "execution_count": 23,
   "metadata": {},
   "outputs": [
    {
     "name": "stdout",
     "output_type": "stream",
     "text": [
      "Crashes:\n",
      "Default Env NN:\t\t\t4852\n",
      "Front Brake Env NN:\t\t8713\n",
      "Default Env Brake:\t\t181\n",
      "Front Brake Env Brake:\t\t40\n"
     ]
    },
    {
     "data": {
      "text/plain": [
       "(Any[22.875, 21.9375, 22.0625, 22.8125, 21.75, 21.1875, 20.6875, 21.8125, 21.1875, 21.625  …  19.8125, 20.007499999999997, 19.71875, 19.862499999999997, 17.816875000000003, 17.125, 17.3125, 18.0625, 18.40625, 18.09375], Any[16.872500000000002, 16.875, 16.9325, 17.125, 17.1125, 17.1125, 17.110000000000003, 17.1125, 17.1125, 17.0625  …  1.46, 1.46, 1.46, 1.46, 0.71875, 0.681, 0.7050000000000001, 0.75625, 1.37138, 1.37138], Any[16.3125, 16.3125, 16.3125, 16.3125, 16.3125, 16.3125, 16.3125, 16.3125, 16.3125, 16.3125  …  15.125, 15.125, 15.125, 15.125, 15.0, 15.0, 15.0, 15.03125, 15.03125, 15.03125], Any[16.3125, 16.3125, 16.3125, 16.3125, 16.3125, 16.3125, 16.3125, 16.3125, 16.3125, 16.3125  …  15.125, 15.125, 15.125, 15.125, 15.0, 15.0, 15.0, 15.03125, 15.03125, 15.03125])"
      ]
     },
     "metadata": {},
     "output_type": "display_data"
    }
   ],
   "source": [
    "summarize_crashes(crash_results)"
   ]
  },
  {
   "cell_type": "code",
   "execution_count": 24,
   "metadata": {},
   "outputs": [
    {
     "name": "stdout",
     "output_type": "stream",
     "text": [
      "[123, 140, 147, 150, 152, 164, 168, 173, 174, 280, 285, 296, 297, 610, 615, 623, 657, 661, 663, 666, 670, 672, 678, 708, 709, 717, 719, 722, 724, 726, 748, 751, 797, 803, 840, 843, 860, 892, 903, 906, 910, 912, 1148, 1185, 1235, 1258, 1298, 1687, 1724, 1726, 1730, 1737, 1740, 1741, 1800, 1801, 1802, 1804, 1809, 1810, 1811, 1812, 1813, 2163, 2165, 2166, 2167, 2168, 2169, 2170, 2171, 2172, 2173, 2209, 2333, 2335, 2336, 2337, 2338, 2339, 2340, 2358, 2359, 2360, 2379, 2481, 2707, 2743, 2988, 2989, 2990, 2993, 2995, 2996, 2997, 2998, 2999, 3013, 3497, 3668, 3701, 3708, 3709, 3749, 3874, 3883, 3890, 3997, 4044, 4081, 4082, 4137, 4255, 4263, 4441, 4472, 4487, 4586, 4599, 4971, 4972, 4973, 4988, 4999, 5006, 5007, 5172, 5303, 6039, 6484, 6500, 6520, 6542, 6559, 6560, 6586, 6614, 6620, 6756, 6783, 6892, 6904, 6908, 6917, 7102, 7123, 7158, 7184, 7298, 7322, 7363, 7402, 7442, 7460, 7468, 7494, 7521, 7555, 7596, 7618, 7654, 7670, 7771, 7772, 7791, 7795, 7886, 7989, 8026, 8056, 8060, 8067, 8085, 8087, 8093, 8115, 8152, 8198, 8256, 8266, 8357, 8438, 8439, 8443, 8448, 8449, 8450, 8452, 8454, 8523, 8529, 8550, 8551, 8555, 8569, 8574, 8581, 8582, 8583, 8586, 8588, 8599, 8604, 8628, 8635, 8641, 8693, 8711, 8793, 8848, 8860, 10458, 10496, 10567]\n"
     ]
    }
   ],
   "source": [
    "weird_cases = findall(map(x->x[2][1][1]==1 || x[2][1][2]==1,crash_results))\n",
    "println(weird_cases)\n",
    "nothing"
   ]
  },
  {
   "cell_type": "code",
   "execution_count": 25,
   "metadata": {},
   "outputs": [
    {
     "name": "stdout",
     "output_type": "stream",
     "text": [
      "Crashes:\n",
      "Default Env NN:\t\t\t203\n",
      "Front Brake Env NN:\t\t201\n",
      "Default Env Brake:\t\t181\n",
      "Front Brake Env Brake:\t\t40\n"
     ]
    },
    {
     "data": {
      "text/plain": [
       "(Any[2.916246875, 2.92984296875, 3.0868125, 2.962425, 2.94870625, 2.92984296875, 3.0868125, 2.962425, 2.94870625, 3.1595  …  1.0225, 1.0207421875, 1.0172265624999999, 1.0084374999999999, 0.94365625, 1.0154687500000001, 0.94365625, 1.1486999999999998, 1.1776550000000001, 2.116866], Any[2.950296875, 2.92984296875, 3.1634375, 3.019625, 2.94870625, 2.92984296875, 3.1634375, 3.019625, 2.94870625, 3.2575  …  1.0625, 1.060546875, 1.0172265624999999, 1.046875, 0.94365625, 1.0546875, 0.94365625, 1.1486999999999998, 1.1776550000000001, 1.2984], Any[3.685390625, 3.66393828125, 4.3571375, 4.23283, 3.69671875, 3.66393828125, 4.3571375, 4.23283, 3.69671875, 4.42875  …  1.89548, 1.8907703125, 1.3662109375, 1.8667625, 1.29296875, 1.87678125, 1.29296875, 16.3125, 16.640625, 16.53125], Any[16.18359375, 16.1630859375, 16.33984375, 16.21875, 16.1953125, 16.1630859375, 16.33984375, 16.21875, 16.1953125, 16.421875  …  15.375, 15.3720703125, 15.3662109375, 15.3515625, 15.29296875, 15.36328125, 15.29296875, 4.3125, 5.140625, 5.03125])"
      ]
     },
     "metadata": {},
     "output_type": "display_data"
    }
   ],
   "source": [
    "summarize_crashes(crash_results[weird_cases])"
   ]
  },
  {
   "cell_type": "markdown",
   "metadata": {},
   "source": [
    "There are some cases where even braking with full force (provably correct!) leads to a crash.\n",
    "\n",
    "Hypothesis for Explanation:\n",
    "- This is an artefact of `highway-env`'s too imprecise euler approximation"
   ]
  },
  {
   "cell_type": "code",
   "execution_count": 26,
   "metadata": {},
   "outputs": [],
   "source": [
    "py\"\"\"\n",
    "for env in envs_all:\n",
    "    env.unwrapped.config[\"simulation_frequency\"] = 100\n",
    "\"\"\""
   ]
  },
  {
   "cell_type": "code",
   "execution_count": 27,
   "metadata": {},
   "outputs": [
    {
     "name": "stdout",
     "output_type": "stream",
     "text": [
      "395.331856 seconds (59.16 k allocations: 2.794 MiB, 0.01% compilation time)\n"
     ]
    }
   ],
   "source": [
    "crash_results_weird = []\n",
    "crash_result_weird_indices = []\n",
    "@time for (i,star) in enumerate(results[weird_cases]) #[1:100]\n",
    "    obs = star.counter_example[1]\n",
    "    in_inv = invariant(5*40*obs[2], 2*40*obs[4], 5*40*(obs[2]+obs[7]), 2*40*(obs[4]+obs[9]))\n",
    "    if in_inv\n",
    "        push!(crash_results_weird,get_results(star.counter_example[1]))\n",
    "        push!(crash_result_weird_indices, weird_cases[i])\n",
    "    else\n",
    "        println(\"Just outside inv: \", quant_invariant(5*40*obs[2], 2*40*obs[4], 5*40*(obs[2]+obs[7]), 2*40*(obs[4]+obs[9])))\n",
    "    end\n",
    "end"
   ]
  },
  {
   "cell_type": "code",
   "execution_count": 28,
   "metadata": {},
   "outputs": [
    {
     "name": "stdout",
     "output_type": "stream",
     "text": [
      "Crashes:\n",
      "Default Env NN:\t\t\t197\n",
      "Front Brake Env NN:\t\t200\n",
      "Default Env Brake:\t\t20\n",
      "Front Brake Env Brake:\t\t0\n"
     ]
    },
    {
     "data": {
      "text/plain": [
       "(Any[2.920612931144571, 2.9139917544437552, 3.050045252107387, 2.954661399072105, 2.950253494093824, 2.9139917544437552, 3.050045252107387, 2.954661399072105, 2.9303493890414853, 3.1457722116079423  …  1.0239300679909245, 1.0221706631183278, 1.0123383142918976, 1.0067540968388577, 0.9471276402350541, 1.0184903958404805, 0.9471276402350541, 1.1326545449637822, 0.484375, 1.4050935139138276], Any[2.9322412188501086, 2.9313454151147447, 3.108665893357351, 2.988574965616058, 2.962082253784607, 2.9313454151147447, 3.108665893357351, 2.988574965616058, 2.962082253784607, 3.1863374214857734  …  1.032192069775687, 1.0270695405702308, 1.0202577082117903, 1.017794076077375, 0.9495884629880558, 1.0249930729265309, 0.9495884629880558, 1.1326545449637822, 0.4514691528924482, 1.2646565304687143], Any[16.18359374999999, 16.163085937499986, 16.339843749999996, 16.218749999999993, 16.19531249999999, 16.163085937499986, 16.339843749999996, 16.218749999999993, 16.19531249999999, 16.421875000000004  …  15.374999999999996, 15.372070312499996, 1.872697648792831, 15.351562499999996, 15.292968749999996, 15.363281249999996, 15.292968749999996, 16.3125, 16.640625000000018, 16.53125000000001], Any[16.18359374999999, 16.163085937499986, 16.339843749999996, 16.218749999999993, 16.19531249999999, 16.163085937499986, 16.339843749999996, 16.218749999999993, 16.19531249999999, 16.421875000000004  …  15.374999999999996, 15.372070312499996, 15.366210937499996, 15.351562499999996, 15.292968749999996, 15.363281249999996, 15.292968749999996, 16.3125, 16.640625000000018, 16.53125000000001])"
      ]
     },
     "metadata": {},
     "output_type": "display_data"
    }
   ],
   "source": [
    "summarize_crashes(crash_results_weird)"
   ]
  },
  {
   "cell_type": "code",
   "execution_count": 29,
   "metadata": {},
   "outputs": [],
   "source": [
    "py\"\"\"\n",
    "for env in envs_all:\n",
    "    env.unwrapped.config[\"simulation_frequency\"] = 1000\n",
    "\"\"\""
   ]
  },
  {
   "cell_type": "code",
   "execution_count": 30,
   "metadata": {},
   "outputs": [
    {
     "name": "stdout",
     "output_type": "stream",
     "text": [
      "[11, 14, 20, 27, 32, 35, 38, 59, 89, 93, 98, 110, 111, 121, 157, 161, 179, 180, 195, 207]\n",
      "[285, 610, 666, 719, 751, 840, 892, 1809, 2988, 2995, 3013, 4081, 4082, 4972, 7521, 7654, 8256, 8266, 8569, 8693]\n"
     ]
    }
   ],
   "source": [
    "weird_cases2 = findall(map(x->x[2][1][1]==1 || x[2][1][2]==1,crash_results_weird))\n",
    "println(weird_cases2)\n",
    "crash_result_weird_indices = weird_cases[weird_cases2]\n",
    "println(crash_result_weird_indices)\n",
    "nothing"
   ]
  },
  {
   "cell_type": "code",
   "execution_count": 31,
   "metadata": {},
   "outputs": [
    {
     "name": "stdout",
     "output_type": "stream",
     "text": [
      "320.514486 seconds (3.71 k allocations: 139.266 KiB)\n"
     ]
    }
   ],
   "source": [
    "crash_results_weird2 = []\n",
    "crash_result_weird_indices2 = []\n",
    "@time for (i,star) in enumerate(results[crash_result_weird_indices]) #[1:100]\n",
    "    obs = star.counter_example[1]\n",
    "    in_inv = invariant(5*40*obs[2], 2*40*obs[4], 5*40*(obs[2]+obs[7]), 2*40*(obs[4]+obs[9]))\n",
    "    if in_inv\n",
    "        push!(crash_results_weird2,get_results(star.counter_example[1]))\n",
    "        push!(crash_result_weird_indices2, weird_cases[i])\n",
    "    else\n",
    "        println(\"Just outside inv: \", quant_invariant(5*40*obs[2], 2*40*obs[4], 5*40*(obs[2]+obs[7]), 2*40*(obs[4]+obs[9])))\n",
    "    end\n",
    "end"
   ]
  },
  {
   "cell_type": "code",
   "execution_count": 32,
   "metadata": {},
   "outputs": [
    {
     "name": "stdout",
     "output_type": "stream",
     "text": [
      "Crashes:\n",
      "Default Env NN:\t\t\t20\n",
      "Front Brake Env NN:\t\t17\n",
      "Default Env Brake:\t\t2\n",
      "Front Brake Env Brake:\t\t0\n"
     ]
    },
    {
     "data": {
      "text/plain": [
       "(Any[3.18007978518201, 0.030813011792178158, 0.030689798214003083, 0.030689798214003083, 0.030813011792178158, 0.029783420046338882, 0.029783420046338882, 1.9345414354429031, 3.2392610867213496, 1.941186824954603, 1.9908507234105044, 8.877732746843126, 8.877734001884285, 3.9438407684970405, 0.8205261629190646, 0.8203970302655859, 1.0872136350792845, 1.102077832252056, 1.034108687563936, 1.0121131543306392], Any[3.1958606476860916, 0.03156010778272078, 0.03238476185499062, 0.03238476185499062, 0.03156010778272078, 0.03119677384005981, 0.03119677384005981, 1.9510194821729816, 6.368868206649897, 1.9552756031878533, 2.0064581339928838, 15.379577636718654, 15.379577636718654, 15.966796875000647, 0.822180441692178, 0.8221170134004525, 1.1001158786542744, 1.7132249823044665, 1.041898479892962, 1.0196580580553665], Any[16.32617187500003, 15.0, 15.0, 15.0, 15.0, 0.00011401154139095704, 0.0008302872111063953, 15.722656250000078, 15.729980468750078, 15.730285644531328, 15.782470703125085, 15.375610351562496, 15.375610351562496, 15.943359375000135, 15.14599609374998, 15.14581298828123, 15.453125000000016, 15.46875000000002, 15.391601562500002, 15.366210937499998], Any[16.32617187500003, 15.0, 15.0, 15.0, 15.0, 15.0, 15.0, 15.722656250000078, 15.729980468750078, 15.730285644531328, 15.782470703125085, 15.375610351562496, 15.375610351562496, 15.943359375000135, 15.14599609374998, 15.14581298828123, 15.453125000000016, 15.46875000000002, 15.391601562500002, 15.366210937499998])"
      ]
     },
     "metadata": {},
     "output_type": "display_data"
    }
   ],
   "source": [
    "summarize_crashes(crash_results_weird2)"
   ]
  },
  {
   "cell_type": "code",
   "execution_count": 34,
   "metadata": {},
   "outputs": [
    {
     "name": "stdout",
     "output_type": "stream",
     "text": [
      "[6, 7]\n",
      "[164, 168]\n"
     ]
    }
   ],
   "source": [
    "weird_cases3 = findall(map(x->x[2][1][1]==1 || x[2][1][2]==1,crash_results_weird2))\n",
    "println(weird_cases3)\n",
    "crash_result_weird_indices2 = weird_cases[weird_cases3]\n",
    "println(crash_result_weird_indices2)\n",
    "nothing"
   ]
  },
  {
   "cell_type": "code",
   "execution_count": 35,
   "metadata": {},
   "outputs": [],
   "source": [
    "py\"\"\"\n",
    "for env in envs_all:\n",
    "    env.unwrapped.config[\"simulation_frequency\"] = 10000\n",
    "\"\"\""
   ]
  },
  {
   "cell_type": "code",
   "execution_count": 36,
   "metadata": {},
   "outputs": [
    {
     "name": "stdout",
     "output_type": "stream",
     "text": [
      "316.388912 seconds (374 allocations: 14.047 KiB)\n"
     ]
    }
   ],
   "source": [
    "crash_results_weird3 = []\n",
    "crash_result_weird_indices3 = []\n",
    "@time for (i,star) in enumerate(results[crash_result_weird_indices2]) #[1:100]\n",
    "    obs = star.counter_example[1]\n",
    "    in_inv = invariant(5*40*obs[2], 2*40*obs[4], 5*40*(obs[2]+obs[7]), 2*40*(obs[4]+obs[9]))\n",
    "    if in_inv\n",
    "        push!(crash_results_weird3,get_results(star.counter_example[1]))\n",
    "        push!(crash_result_weird_indices3, weird_cases[i])\n",
    "    else\n",
    "        println(\"Just outside inv: \", quant_invariant(5*40*obs[2], 2*40*obs[4], 5*40*(obs[2]+obs[7]), 2*40*(obs[4]+obs[9])))\n",
    "    end\n",
    "end"
   ]
  },
  {
   "cell_type": "code",
   "execution_count": 37,
   "metadata": {},
   "outputs": [
    {
     "name": "stdout",
     "output_type": "stream",
     "text": [
      "Crashes:\n",
      "Default Env NN:\t\t\t2\n",
      "Front Brake Env NN:\t\t2\n",
      "Default Env Brake:\t\t0\n",
      "Front Brake Env Brake:\t\t0\n"
     ]
    },
    {
     "data": {
      "text/plain": [
       "(Any[2.9140140973448396, 3.0502231354415965], Any[2.930820012953526, 3.10632578223569], Any[16.163085937501556, 16.339843750000764], Any[16.163085937501556, 16.339843750000764])"
      ]
     },
     "metadata": {},
     "output_type": "display_data"
    }
   ],
   "source": [
    "summarize_crashes(crash_results_weird3)"
   ]
  },
  {
   "cell_type": "code",
   "execution_count": 38,
   "metadata": {},
   "outputs": [
    {
     "name": "stdout",
     "output_type": "stream",
     "text": [
      "[1.0, 0.9999998494517268, 0.0, 0.439453125, 0.0, 1.0, 0.6435546875, 0.0, -0.4375, 0.0, 1.0, 0.6689453125, 0.0, -0.435546875, 0.0, 1.0, 0.974853515625, 0.0, 0.4453125, 0.0, 1.0, 0.9999980926513672, 0.0, 0.9999990463256836, 0.0]\n"
     ]
    }
   ],
   "source": [
    "println(results[crash_result_weird_indices[1]].counter_example[1])"
   ]
  },
  {
   "cell_type": "code",
   "execution_count": null,
   "metadata": {},
   "outputs": [],
   "source": []
  }
 ],
 "metadata": {
  "kernelspec": {
   "display_name": "Julia 1.10.4",
   "language": "julia",
   "name": "julia-1.10"
  },
  "language_info": {
   "file_extension": ".jl",
   "mimetype": "application/julia",
   "name": "julia",
   "version": "1.10.4"
  }
 },
 "nbformat": 4,
 "nbformat_minor": 2
}

{
 "cells": [
  {
   "cell_type": "markdown",
   "metadata": {},
   "source": [
    "**This Jupyter Notebook requires a Python Kernel of the abz-env Conda Env**"
   ]
  },
  {
   "cell_type": "code",
   "execution_count": 24,
   "metadata": {},
   "outputs": [],
   "source": [
    "from highway_reproduction import *\n",
    "from custom_highway import *\n",
    "import itertools\n",
    "\n",
    "from highway_env.vehicle.kinematics import Vehicle\n",
    "from highway_env.vehicle.behavior import IDMVehicle\n",
    "Vehicle.MIN_SPEED = 0.0"
   ]
  },
  {
   "cell_type": "code",
   "execution_count": 25,
   "metadata": {},
   "outputs": [],
   "source": [
    "BrakingVehicle.MIN_SPEED = 1.0 #1.5\n",
    "IDMVehicle.ACC_MAX = 5.0\n",
    "IDMVehicle.MIN_SPEED=0.5"
   ]
  },
  {
   "cell_type": "code",
   "execution_count": 26,
   "metadata": {},
   "outputs": [],
   "source": [
    "def takewhile_inclusive(predicate, it):\n",
    "    \"\"\"Source: https://stackoverflow.com/a/70762559\"\"\"\n",
    "    for x in it:\n",
    "        if predicate(x):\n",
    "            yield x\n",
    "        else:\n",
    "            yield x\n",
    "            break"
   ]
  },
  {
   "cell_type": "code",
   "execution_count": 27,
   "metadata": {},
   "outputs": [
    {
     "name": "stderr",
     "output_type": "stream",
     "text": [
      "/home/samuel/anaconda3/envs/abz/lib/python3.10/site-packages/gymnasium/utils/passive_env_checker.py:42: UserWarning: \u001b[33mWARN: A Box observation space has an unconventional shape (neither an image, nor a 1D vector). We recommend flattening the observation to have only a 1D vector or use a custom policy to properly process the data. Actual observation shape: (5, 5)\u001b[0m\n",
      "  logger.warn(\n"
     ]
    }
   ],
   "source": [
    "env_idm = gym.make(\"highway-env-fast-seedable-v0\", render_mode=None)\n",
    "env_idm.configure({\n",
    "    \"observation_seed\": [1.0, 0.13285615911351908, 0.0, 0.0888671875, 0.0, 1.0, 0.048065185546875, 0.0, -0.0625, 0.0, 1.0, 0.0730743408203125, 0.0, -0.0624847412109375, 0.0, 1.0, 0.09807586669921875, 0.0, -0.019060134887695312, 0.0, 1.0, 0.9999997615814209, 0.0, 0.0, 0.0],\n",
    "    #\"other_vehicles_type\": \"custom_highway.BrakingVehicle\",\n",
    "        \"action\": {\n",
    "            \"type\": \"DiscreteAction\",\n",
    "            \"acceleration_range\": [-5.0, 5.0],\n",
    "            \"longitudinal\": True,\n",
    "            \"lateral\": False,\n",
    "            \"speed_range\": [0, 40],\n",
    "            \"dynamical\": False,\n",
    "            \"clip\": True}\n",
    "})"
   ]
  },
  {
   "cell_type": "code",
   "execution_count": 37,
   "metadata": {},
   "outputs": [],
   "source": [
    "env_idm.unwrapped.config[\"simulation_frequency\"] = 10"
   ]
  },
  {
   "cell_type": "code",
   "execution_count": 38,
   "metadata": {},
   "outputs": [
    {
     "name": "stdout",
     "output_type": "stream",
     "text": [
      "Testing model\n",
      "Testing default action\n"
     ]
    },
    {
     "name": "stderr",
     "output_type": "stream",
     "text": [
      "/home/samuel/anaconda3/envs/abz/lib/python3.10/site-packages/stable_baselines3/common/save_util.py:437: FutureWarning: You are using `torch.load` with `weights_only=False` (the current default value), which uses the default pickle module implicitly. It is possible to construct malicious pickle data which will execute arbitrary code during unpickling (See https://github.com/pytorch/pytorch/blob/main/SECURITY.md#untrusted-models for more details). In a future release, the default value for `weights_only` will be flipped to `True`. This limits the functions that could be executed during unpickling. Arbitrary objects will no longer be allowed to be loaded via this mode unless they are explicitly allowlisted by the user via `torch.serialization.add_safe_globals`. We recommend you start setting `weights_only=True` for any use case where you don't have full control of the loaded file. Please open an issue on GitHub for any issues related to this experimental feature.\n",
      "  th_object = th.load(file_content, map_location=device)\n"
     ]
    }
   ],
   "source": [
    "res_nn,res_braking, nn_traj, default_traj = reproduce_crash_evaluate_with_trajectory([env_idm], \"../nets/highspeed-rew-1.zip\", test_runs=1, default_action=0,seed=0)\n",
    "#res_nn,res_braking, nn_traj, default_traj = reproduce_crash_evaluate_with_trajectory([env_front_brakes], \"../nets/nn_small_improved-ld.zip\", test_runs=1, default_action=0,render=False)"
   ]
  },
  {
   "cell_type": "code",
   "execution_count": 39,
   "metadata": {},
   "outputs": [
    {
     "name": "stdout",
     "output_type": "stream",
     "text": [
      "([1], [0.5270937669921876])\n",
      "([1], [0.5270937669921876])\n",
      "Seconds NN:  3\n",
      "Seconds Braking:  3\n"
     ]
    }
   ],
   "source": [
    "print(res_nn)\n",
    "print(res_braking)\n",
    "print(\"Seconds NN: \", len(nn_traj))\n",
    "print(\"Seconds Braking: \", len(default_traj))"
   ]
  },
  {
   "cell_type": "code",
   "execution_count": 40,
   "metadata": {},
   "outputs": [],
   "source": [
    "env_idm.unwrapped.config[\"simulation_frequency\"] = 100"
   ]
  },
  {
   "cell_type": "code",
   "execution_count": 41,
   "metadata": {},
   "outputs": [
    {
     "name": "stderr",
     "output_type": "stream",
     "text": [
      "/home/samuel/anaconda3/envs/abz/lib/python3.10/site-packages/stable_baselines3/common/save_util.py:437: FutureWarning: You are using `torch.load` with `weights_only=False` (the current default value), which uses the default pickle module implicitly. It is possible to construct malicious pickle data which will execute arbitrary code during unpickling (See https://github.com/pytorch/pytorch/blob/main/SECURITY.md#untrusted-models for more details). In a future release, the default value for `weights_only` will be flipped to `True`. This limits the functions that could be executed during unpickling. Arbitrary objects will no longer be allowed to be loaded via this mode unless they are explicitly allowlisted by the user via `torch.serialization.add_safe_globals`. We recommend you start setting `weights_only=True` for any use case where you don't have full control of the loaded file. Please open an issue on GitHub for any issues related to this experimental feature.\n",
      "  th_object = th.load(file_content, map_location=device)\n"
     ]
    },
    {
     "name": "stdout",
     "output_type": "stream",
     "text": [
      "Testing model\n",
      "Testing default action\n"
     ]
    }
   ],
   "source": [
    "res_nn_1000,res_braking_1000, nn_traj_1000, default_traj_1000 = reproduce_crash_evaluate_with_trajectory([env_idm], \"../nets/highspeed-rew-1.zip\", test_runs=1, default_action=0,seed=0)"
   ]
  },
  {
   "cell_type": "code",
   "execution_count": 42,
   "metadata": {},
   "outputs": [
    {
     "name": "stdout",
     "output_type": "stream",
     "text": [
      "([0], [15.0263671875])\n",
      "Seconds Braking:  31\n"
     ]
    }
   ],
   "source": [
    "print(res_braking_1000)\n",
    "print(\"Seconds Braking: \", len(default_traj_1000))"
   ]
  },
  {
   "cell_type": "markdown",
   "metadata": {},
   "source": [
    "# Plot"
   ]
  },
  {
   "cell_type": "code",
   "execution_count": 43,
   "metadata": {},
   "outputs": [],
   "source": [
    "import matplotlib.pyplot as plt\n",
    "import numpy as np"
   ]
  },
  {
   "cell_type": "code",
   "execution_count": 44,
   "metadata": {},
   "outputs": [
    {
     "name": "stdout",
     "output_type": "stream",
     "text": [
      "[26.571232 31.205606 31.644466 31.635645 31.610397 31.610146 31.584902\n",
      " 31.584648 31.559406 31.559153 31.533907 31.533651 31.50841  31.508158\n",
      " 31.48291  31.482658 31.457415 31.45716  31.431915 31.431664 31.406418\n",
      " 31.406166 31.38092  31.380669 31.355423 31.355171 31.329927 31.329674\n",
      " 31.304428 31.304178 31.278933]\n",
      "[36.18427  36.931454 37.418324 37.913513 38.411755 38.91111  39.410873\n",
      " 39.989117 40.94861  42.257114 43.730095 45.282436 46.88698  48.531372\n",
      " 50.20791  51.91122  53.637276 55.383003 57.145954 58.92415  60.715973\n",
      " 62.52005  64.33525  66.160576 67.99518  69.83833  71.68938  73.54775\n",
      " 75.41295  77.284515 79.16203 ]\n"
     ]
    }
   ],
   "source": [
    "ego_positions_brake_1000 = map(lambda x: x[0][1], default_traj_1000)\n",
    "other_positions_brake_1000 = map(lambda x: x[0][1]+x[1][1], default_traj_1000)\n",
    "\n",
    "ego_positions_brake_1000 = np.array(list(ego_positions_brake_1000))\n",
    "other_positions_brake_1000 = np.array(list(other_positions_brake_1000))\n",
    "\n",
    "print(ego_positions_brake_1000*5*40)\n",
    "print(other_positions_brake_1000*5*40)"
   ]
  },
  {
   "cell_type": "code",
   "execution_count": 45,
   "metadata": {},
   "outputs": [
    {
     "name": "stdout",
     "output_type": "stream",
     "text": [
      "[26.571232 31.430607 32.025223]\n",
      "[36.18427  36.84499  37.210155]\n"
     ]
    }
   ],
   "source": [
    "ego_positions_brake = map(lambda x: x[0][1], default_traj)\n",
    "other_positions_brake = map(lambda x: x[0][1]+x[1][1], default_traj)\n",
    "\n",
    "ego_positions_brake = np.array(list(ego_positions_brake))\n",
    "other_positions_brake = np.array(list(other_positions_brake))\n",
    "\n",
    "print(ego_positions_brake*5*40)\n",
    "print(other_positions_brake*5*40)"
   ]
  },
  {
   "cell_type": "code",
   "execution_count": 46,
   "metadata": {},
   "outputs": [],
   "source": [
    "import matplotlib\n",
    "font = {'size'   : 18}\n",
    "\n",
    "matplotlib.rc('font', **font)"
   ]
  },
  {
   "cell_type": "code",
   "execution_count": 49,
   "metadata": {},
   "outputs": [
    {
     "data": {
      "image/png": "[encoded data removed]",
      "text/plain": [
       "<Figure size 640x480 with 1 Axes>"
      ]
     },
     "metadata": {},
     "output_type": "display_data"
    }
   ],
   "source": [
    "t = np.arange(0, 31, 1)\n",
    "num_steps = 5\n",
    "t_nn = -t[:num_steps]\n",
    "\n",
    "x = ego_positions_brake_1000*5*40\n",
    "x = x[:num_steps]\n",
    "y = t_nn[:len(x)]\n",
    "plt.fill_betweenx(y, x, x+5, alpha=0.5, color=\"orange\", label=\"Ego (100Hz)\")\n",
    "plt.plot(x+2.5, y, markerfacecolor=\"black\", marker=\"o\",markersize=6, color=\"orange\")\n",
    "\n",
    "x = ego_positions_brake*5*40\n",
    "x = x[:num_steps]\n",
    "y = t_nn[:len(x)]\n",
    "plt.fill_betweenx(y, x, x+5, alpha=0.5, color=\"cornflowerblue\", label=\"Ego (10 Hz)\")\n",
    "plt.plot(x+2.5, y, markerfacecolor=\"black\", marker=\"o\",markersize=6, color=\"cornflowerblue\")\n",
    "\n",
    "x = other_positions_brake_1000*5*40\n",
    "x = x[:num_steps]\n",
    "y = t_nn[:len(x)]\n",
    "plt.fill_betweenx(y, x, x+5, alpha=0.5, color=\"purple\", label=\"Front Car (100Hz)\")\n",
    "plt.plot(x+2.5, y, markerfacecolor=\"black\", marker=\"o\",markersize=6, color=\"purple\")\n",
    "\n",
    "x = other_positions_brake*5*40\n",
    "x = x[:num_steps]\n",
    "y = t_nn[:len(x)]\n",
    "plt.fill_betweenx(y, x, x+5, alpha=0.5, color=\"gray\", label=\"Front Car (10Hz)\")\n",
    "plt.plot(x+2.5, y, markerfacecolor=\"black\", marker=\"o\",markersize=6, color=\"gray\")\n",
    "\n",
    "plt.xlabel(\"Position [m]\")\n",
    "plt.ylabel(\"Time [s]\")\n",
    "plt.xticks(np.arange(25, 46, 5))\n",
    "plt.yticks(np.arange(0, -(num_steps+1), -1), np.arange(0, (num_steps+1), 1))\n",
    "plt.legend()\n",
    "plt.gca().set_aspect(5)\n",
    "plt.tight_layout()\n",
    "plt.text(36.5, -2.25, \"↯\",fontdict={'size': 30})\n",
    "plt.savefig(\"euler-crash.pdf\", bbox_inches='tight')\n",
    "plt.show()"
   ]
  },
  {
   "cell_type": "code",
   "execution_count": null,
   "metadata": {},
   "outputs": [],
   "source": []
  }
 ],
 "metadata": {
  "kernelspec": {
   "display_name": "abz",
   "language": "python",
   "name": "python3"
  },
  "language_info": {
   "codemirror_mode": {
    "name": "ipython",
    "version": 3
   },
   "file_extension": ".py",
   "mimetype": "text/x-python",
   "name": "python",
   "nbconvert_exporter": "python",
   "pygments_lexer": "ipython3",
   "version": "3.10.16"
  }
 },
 "nbformat": 4,
 "nbformat_minor": 2
}
